{
  "nbformat": 4,
  "nbformat_minor": 0,
  "metadata": {
    "colab": {
      "name": "GeneticAlgorithms.ipynb",
      "provenance": [],
      "collapsed_sections": []
    },
    "kernelspec": {
      "display_name": "Python 3",
      "name": "python3"
    }
  },
  "cells": [
    {
      "cell_type": "markdown",
      "metadata": {
        "id": "Ur6er1QWILof"
      },
      "source": [
        "#CT421 Assignment 1: Genetic algorithms\n",
        "\n",
        "Aaron Fitzpatrick - 16518423\n",
        "\n",
        "Lorcan Creedon - 1642524"
      ]
    },
    {
      "cell_type": "code",
      "metadata": {
        "id": "GnbSHZRQRGTl"
      },
      "source": [
        "from random import randrange, random\n",
        "import matplotlib.pyplot as plt\n",
        "import pandas as pd\n",
        "import numpy as np"
      ],
      "execution_count": 4,
      "outputs": []
    },
    {
      "cell_type": "markdown",
      "metadata": {
        "id": "FFYVETvwIfia"
      },
      "source": [
        "#Part (a) \n",
        "\n",
        "Below are the functions that are used throughout answering part (a)."
      ]
    },
    {
      "cell_type": "code",
      "metadata": {
        "id": "iEVNU_nxIGS8"
      },
      "source": [
        "# Generate p bit strings of length l\n",
        "def generate_random_bits(l, p):\n",
        "  max = 2**l\n",
        "  fmt = f\"0:0{l}b\"\n",
        "  return [(\"{\" + fmt + \"}\").format(randrange(0, max)) for i in range(p)]\n",
        "\n",
        "# perform crossover between a and b to create a child\n",
        "def crossover(a, b):\n",
        "  l = len(a)\n",
        "  r = randrange(0, l)\n",
        "  aa = list(a)\n",
        "  aa[r:] = list(b)[r:]\n",
        "  return \"\".join(aa)\n",
        "\n",
        "# mutate a random bit\n",
        "def mutate(b):\n",
        "  r = randrange(0, len(b))\n",
        "  bitarr = list(b)\n",
        "  bitarr[r] = \"0\" if bitarr[r] == \"1\" else \"1\"\n",
        "  return \"\".join(bitarr)\n",
        "\n",
        "\n",
        "# re-useable evolve function. Takes initial population, fitness function, probability of crossover, probability of mutation & dictionary of args for fitness function\n",
        "def evolve(initial_pop, eval_fitness, p_cross, p_mut, fitness_func_args = {}):\n",
        "  # initialise variables\n",
        "  n = 0\n",
        "  fitness_change = 1\n",
        "  avg_fitness = []\n",
        "  pop = initial_pop\n",
        "  df = pd.DataFrame(columns=[\"avg_fitness\", \"max_fitness\", \"fittest\"])\n",
        "\n",
        "  # enter while loop and only break when we have reached optimal solution \n",
        "  # (all fitness functions supplied should have a max of 1 which equates to a perfect solution)\n",
        "  while fitness_change > 0.0001:\n",
        "    # find fittest entity and calculate average & max fitness\n",
        "    fitness = [eval_fitness(b, **fitness_func_args) for b in pop]\n",
        "    fittest_index = fitness.index(max(fitness))\n",
        "    fittest = pop[fittest_index]\n",
        "    max_fitness = eval_fitness(fittest, **fitness_func_args)\n",
        "\n",
        "    # append row to data frame\n",
        "    df = df.append(pd.DataFrame({\n",
        "        \"avg_fitness\": [sum(fitness) / len(fitness)],\n",
        "        \"max_fitness\": [max_fitness],\n",
        "        \"fittest\": [fittest],\n",
        "    }), ignore_index = True)\n",
        "\n",
        "    # calculate change in fitness as difference between current fitness and the fitness from 5 iterations before.\n",
        "    if n > 1:\n",
        "      fitness_change = abs(df[\"avg_fitness\"].values[-1] - df[\"avg_fitness\"].values[-2]) / df[\"avg_fitness\"].values[-2]\n",
        "\n",
        "    # print to console every 5 iterations\n",
        "    if n % 5 == 0:\n",
        "      print(f\"Evolution {n}, Average Fitness: {df['avg_fitness'].values[-1]}, Fittest: {fittest} ({eval_fitness(fittest, **fitness_func_args)}), Change in avg fitness: {round(fitness_change * 100, 4)}%\")\n",
        "\n",
        "    # break if the fitness change is very small\n",
        "    if fitness_change < 0.00001:\n",
        "      break\n",
        "\n",
        "    # new population begins with just the fittest\n",
        "    new_pop = [fittest] \n",
        "    \n",
        "    # loop through remaining population, applying one-point crossover & mutation probabilistically and adding to the new pop\n",
        "    for i in range(0, len(pop)):\n",
        "      # make sure not using fittest twice\n",
        "      if i != fittest_index:\n",
        "        b = pop[i]\n",
        "        r = random()\n",
        "\n",
        "        if p_cross > r:\n",
        "          b = crossover(fittest, b)\n",
        "        if p_mut > r:\n",
        "          b = mutate(b)\n",
        "\n",
        "        new_pop.append(b)\n",
        "\n",
        "    pop = new_pop\n",
        "    n+=1\n",
        "\n",
        "  return pop, df"
      ],
      "execution_count": 30,
      "outputs": []
    },
    {
      "cell_type": "markdown",
      "metadata": {
        "id": "QNC15mBcInzY"
      },
      "source": [
        "##(i) One-max Problem\n",
        "\n",
        "For the one-max problem, the fitness function returns the count of 1s in the bit string. This is made easy by the count method for strings in python.\n"
      ]
    },
    {
      "cell_type": "code",
      "metadata": {
        "colab": {
          "base_uri": "https://localhost:8080/",
          "height": 421
        },
        "id": "TUXUVXQmFCnY",
        "outputId": "438bf366-2fca-4bcc-bdfa-77770b9bed27"
      },
      "source": [
        "# fitness function for one-max problem that returns 1 if all bits are equal\n",
        "one_max_fitness = lambda b: b.count(\"1\")\n",
        "\n",
        "l = 20\n",
        "p = 500\n",
        "p_mut = 0.1\n",
        "p_cross = 0.3\n",
        "\n",
        "initial_pop = generate_random_bits(l, p)\n",
        "\n",
        "pop, df = evolve(initial_pop, one_max_fitness, p_cross, p_mut)\n",
        "\n",
        "df[\"avg_fitness\"].plot()"
      ],
      "execution_count": 33,
      "outputs": [
        {
          "output_type": "stream",
          "text": [
            "Evolution 0, Average Fitness: 9.976, Fittest: 10111100111111111001 (15), Change in avg fitness: 100%\n",
            "Evolution 5, Average Fitness: 13.178, Fittest: 11111101111111111111 (19), Change in avg fitness: 6.2399%\n",
            "Evolution 10, Average Fitness: 15.842, Fittest: 11111111111111111111 (20), Change in avg fitness: 2.7367%\n",
            "Evolution 15, Average Fitness: 16.962, Fittest: 11111111111111111111 (20), Change in avg fitness: 1.157%\n",
            "Evolution 20, Average Fitness: 17.556, Fittest: 11111111111111111111 (20), Change in avg fitness: 0.5498%\n",
            "Evolution 25, Average Fitness: 17.814, Fittest: 11111111111111111111 (20), Change in avg fitness: 0.1462%\n",
            "Evolution 30, Average Fitness: 17.936, Fittest: 11111111111111111111 (20), Change in avg fitness: 0.134%\n",
            "Evolution 35, Average Fitness: 18.084, Fittest: 11111111111111111111 (20), Change in avg fitness: 0.2439%\n"
          ],
          "name": "stdout"
        },
        {
          "output_type": "execute_result",
          "data": {
            "text/plain": [
              "<matplotlib.axes._subplots.AxesSubplot at 0x7fa0216b6b50>"
            ]
          },
          "metadata": {
            "tags": []
          },
          "execution_count": 33
        },
        {
          "output_type": "display_data",
          "data": {
            "image/png": "[encoded data removed]",
            "text/plain": [
              "<Figure size 432x288 with 1 Axes>"
            ]
          },
          "metadata": {
            "tags": [],
            "needs_background": "light"
          }
        }
      ]
    },
    {
      "cell_type": "markdown",
      "metadata": {
        "id": "T5D6Qc1kHfzb"
      },
      "source": [
        "##(ii) Evolving to a target string\n",
        "\n",
        "Changing the fitness function to return the count of matching bits was the only change that was needed to solve the target sstring problem. The same evolve fucntion as described above is used throughout."
      ]
    },
    {
      "cell_type": "code",
      "metadata": {
        "colab": {
          "base_uri": "https://localhost:8080/",
          "height": 507
        },
        "id": "rEpcSCmUIkgk",
        "outputId": "1c3cda7f-b0cc-4e12-b12d-90c9ea0329e5"
      },
      "source": [
        "l = 20\n",
        "p = 500\n",
        "p_mut = 0.05\n",
        "p_cross = 0.2\n",
        "\n",
        "# Target String\n",
        "t = \"10101010101010101010\"\n",
        "\n",
        "initial_pop = generate_random_bits(l, p)\n",
        "# evaluates the fitness of an entity by the number of matching bits (divided by total bits to make max 1)\n",
        "target_string_fitness = lambda b: len([True for i in range(len(b)) if b[i] == t[i]])\n",
        "\n",
        "\n",
        "pop, df = evolve(initial_pop, target_string_fitness, p_cross, p_mut)\n",
        "\n",
        "df[\"avg_fitness\"].plot()"
      ],
      "execution_count": 52,
      "outputs": [
        {
          "output_type": "stream",
          "text": [
            "Evolution 0, Average Fitness: 9.982, Fittest: 10001000101010000010 (16), Change in avg fitness: 100%\n",
            "Evolution 5, Average Fitness: 12.51, Fittest: 10001000101010101010 (18), Change in avg fitness: 4.0246%\n",
            "Evolution 10, Average Fitness: 14.236, Fittest: 10101010101010101010 (20), Change in avg fitness: 2.2995%\n",
            "Evolution 15, Average Fitness: 15.894, Fittest: 10101010101010101010 (20), Change in avg fitness: 1.1326%\n",
            "Evolution 20, Average Fitness: 16.922, Fittest: 10101010101010101010 (20), Change in avg fitness: 1.3658%\n",
            "Evolution 25, Average Fitness: 17.442, Fittest: 10101010101010101010 (20), Change in avg fitness: 0.3683%\n",
            "Evolution 30, Average Fitness: 17.792, Fittest: 10101010101010101010 (20), Change in avg fitness: 0.429%\n",
            "Evolution 35, Average Fitness: 18.006, Fittest: 10101010101010101010 (20), Change in avg fitness: 0.2338%\n",
            "Evolution 40, Average Fitness: 18.2, Fittest: 10101010101010101010 (20), Change in avg fitness: 0.11%\n",
            "Evolution 45, Average Fitness: 18.3, Fittest: 10101010101010101010 (20), Change in avg fitness: 0.0985%\n",
            "Evolution 50, Average Fitness: 18.348, Fittest: 10101010101010101010 (20), Change in avg fitness: 0.0327%\n",
            "Evolution 55, Average Fitness: 18.434, Fittest: 10101010101010101010 (20), Change in avg fitness: 0.1521%\n",
            "Evolution 60, Average Fitness: 18.478, Fittest: 10101010101010101010 (20), Change in avg fitness: 0.0%\n"
          ],
          "name": "stdout"
        },
        {
          "output_type": "execute_result",
          "data": {
            "text/plain": [
              "<matplotlib.axes._subplots.AxesSubplot at 0x7fa020e9c210>"
            ]
          },
          "metadata": {
            "tags": []
          },
          "execution_count": 52
        },
        {
          "output_type": "display_data",
          "data": {
            "image/png": "[encoded data removed]",
            "text/plain": [
              "<Figure size 432x288 with 1 Axes>"
            ]
          },
          "metadata": {
            "tags": [],
            "needs_background": "light"
          }
        }
      ]
    },
    {
      "cell_type": "markdown",
      "metadata": {
        "id": "lKPVMjXNJvXV"
      },
      "source": [
        "## (iii) Deceptive Landscape\n",
        "\n",
        "After changing the fitness function to the one specified in part (iii), it became clear that this is not a good fitness function. After experimenting with many different population sizes, mutation and crossover probabilities I couldnt get the algorithm to learn the optimal solution."
      ]
    },
    {
      "cell_type": "code",
      "metadata": {
        "colab": {
          "base_uri": "https://localhost:8080/",
          "height": 507
        },
        "id": "WMwOUvniOSYW",
        "outputId": "51cea07e-2182-4566-df87-0ae955a3df36"
      },
      "source": [
        "l = 20\n",
        "p = 500\n",
        "p_mut = 0.1\n",
        "p_cross = 0.2\n",
        "\n",
        "initial_pop = generate_random_bits(l, p)\n",
        "\n",
        "def desceptive_fitness(b):\n",
        "  x = b.count(\"1\")\n",
        "  return x if x > 0 else 2*len(b)\n",
        "\n",
        "pop, df = evolve(initial_pop, desceptive_fitness, p_cross, p_mut)\n",
        "\n",
        "df[\"avg_fitness\"].plot()"
      ],
      "execution_count": 53,
      "outputs": [
        {
          "output_type": "stream",
          "text": [
            "Evolution 0, Average Fitness: 10.088, Fittest: 11111111110011111111 (18), Change in avg fitness: 100%\n",
            "Evolution 5, Average Fitness: 13.0, Fittest: 11111111110111111111 (19), Change in avg fitness: 3.3879%\n",
            "Evolution 10, Average Fitness: 14.866, Fittest: 11111111111111111111 (20), Change in avg fitness: 2.397%\n",
            "Evolution 15, Average Fitness: 15.972, Fittest: 11111111111111111111 (20), Change in avg fitness: 1.1654%\n",
            "Evolution 20, Average Fitness: 16.632, Fittest: 11111111111111111111 (20), Change in avg fitness: 0.5684%\n",
            "Evolution 25, Average Fitness: 17.048, Fittest: 11111111111111111111 (20), Change in avg fitness: 0.1763%\n",
            "Evolution 30, Average Fitness: 17.318, Fittest: 11111111111111111111 (20), Change in avg fitness: 0.0578%\n",
            "Evolution 35, Average Fitness: 17.538, Fittest: 11111111111111111111 (20), Change in avg fitness: 0.3777%\n",
            "Evolution 40, Average Fitness: 17.664, Fittest: 11111111111111111111 (20), Change in avg fitness: 0.0566%\n",
            "Evolution 45, Average Fitness: 17.782, Fittest: 11111111111111111111 (20), Change in avg fitness: 0.2707%\n",
            "Evolution 50, Average Fitness: 17.77, Fittest: 11111111111111111111 (20), Change in avg fitness: 0.0113%\n",
            "Evolution 55, Average Fitness: 17.844, Fittest: 11111111111111111111 (20), Change in avg fitness: 0.0448%\n",
            "Evolution 60, Average Fitness: 17.94, Fittest: 11111111111111111111 (20), Change in avg fitness: 0.2907%\n"
          ],
          "name": "stdout"
        },
        {
          "output_type": "execute_result",
          "data": {
            "text/plain": [
              "<matplotlib.axes._subplots.AxesSubplot at 0x7fa020daded0>"
            ]
          },
          "metadata": {
            "tags": []
          },
          "execution_count": 53
        },
        {
          "output_type": "display_data",
          "data": {
            "image/png": "[encoded data removed]",
            "text/plain": [
              "<Figure size 432x288 with 1 Axes>"
            ]
          },
          "metadata": {
            "tags": [],
            "needs_background": "light"
          }
        }
      ]
    },
    {
      "cell_type": "markdown",
      "metadata": {
        "id": "UYQUCTUoWDSq"
      },
      "source": [
        "## Part (a) Results\n",
        "\n",
        "The results from part (a) were interesting and helpful in making the concepts from the lectures concrete. For the first two parts, where finding the optimal solution is a reasonable task, the algorithm performed extremely well. We originally began with a population size of 100, but the results contained a lot of noise. To gather cleaner data we increased the size of the population to 500 or 1000 and that smoothed out the results. We also chose relatively low value for mutation probability as it hindered the evolution more as a larger probability. In our implmentation of the algorithm the new population begins with just the fittest entity from the previous population. For every other member of the previous population there is a probability that they will be crossed with the fittest and mutated before being added to the new population.\n",
        "\n",
        "We believe the point of part (iii) was to show that fitness functions can be deceptive and it would be improbable that the optimal solution will ever be found for that problem, using that particular fitness function.\n"
      ]
    },
    {
      "cell_type": "markdown",
      "metadata": {
        "id": "vyjrsElgV1fe"
      },
      "source": [
        "#Part (b) \n",
        "\n",
        "Below are the functions and variables that are used throughout answering part (b)."
      ]
    },
    {
      "cell_type": "code",
      "metadata": {
        "id": "2r7wc1vuV4GJ"
      },
      "source": [
        "# calculate weight and value of a knapsack\n",
        "def get_knapsack_info(items):\n",
        "  value = 0\n",
        "  weight = 0\n",
        "  for i in items:\n",
        "    value += i[0]\n",
        "    weight += i[1]\n",
        "  \n",
        "  return value, weight\n",
        "\n",
        "# fitness function for one-max napsack problem\n",
        "def knapsack_fitness(b, **args):\n",
        "  used_items = [items[i] for i in range(len(b)) if b[i] == \"1\"]\n",
        "  value, weight = get_knapsack_info(used_items)\n",
        "  return value if weight <= args[\"knapsack_size\"] else 1\n",
        "\n",
        "# values and weights of the items\n",
        "values = [78, 35, 89, 36, 94, 75, 74, 79, 80, 16]\n",
        "weights = [18, 9, 23, 20, 59, 61, 70, 75, 76, 30]\n",
        "\n",
        "# list of items as tuples of (value, weight)\n",
        "items = list(zip(values, weights))"
      ],
      "execution_count": 37,
      "outputs": []
    },
    {
      "cell_type": "code",
      "metadata": {
        "colab": {
          "base_uri": "https://localhost:8080/",
          "height": 491
        },
        "id": "KzS1YofVmfZZ",
        "outputId": "70af3f08-df9b-4166-9752-bea0598724a4"
      },
      "source": [
        "l = len(items)\n",
        "p = 500\n",
        "p_mut = 0.05\n",
        "p_cross = 0.3\n",
        "\n",
        "# arguments for fitness function (variable knapsack size)\n",
        "fitness_func_args = {\"knapsack_size\": 103}\n",
        "\n",
        "initial_pop = generate_random_bits(l, p)\n",
        "\n",
        "pop, df = evolve(initial_pop, knapsack_fitness, p_cross, p_mut, fitness_func_args)\n",
        "\n",
        "df[\"avg_fitness\"].plot()"
      ],
      "execution_count": 54,
      "outputs": [
        {
          "output_type": "stream",
          "text": [
            "Evolution 0, Average Fitness: 11.166, Fittest: 1011000001 (219), Change in avg fitness: 100%\n",
            "Evolution 5, Average Fitness: 60.904, Fittest: 1111000001 (254), Change in avg fitness: 21.2889%\n",
            "Evolution 10, Average Fitness: 96.916, Fittest: 1111000001 (254), Change in avg fitness: 6.6065%\n",
            "Evolution 15, Average Fitness: 117.15, Fittest: 1111000001 (254), Change in avg fitness: 2.3627%\n",
            "Evolution 20, Average Fitness: 135.244, Fittest: 1111000001 (254), Change in avg fitness: 0.4397%\n",
            "Evolution 25, Average Fitness: 145.344, Fittest: 1111000001 (254), Change in avg fitness: 0.1061%\n",
            "Evolution 30, Average Fitness: 156.932, Fittest: 1111000001 (254), Change in avg fitness: 1.4952%\n",
            "Evolution 35, Average Fitness: 158.894, Fittest: 1111000001 (254), Change in avg fitness: 0.2233%\n",
            "Evolution 40, Average Fitness: 160.48, Fittest: 1111000001 (254), Change in avg fitness: 0.2875%\n",
            "Evolution 45, Average Fitness: 164.878, Fittest: 1111000001 (254), Change in avg fitness: 1.1985%\n",
            "Evolution 50, Average Fitness: 174.614, Fittest: 1111000001 (254), Change in avg fitness: 0.2469%\n",
            "Evolution 55, Average Fitness: 169.284, Fittest: 1111000001 (254), Change in avg fitness: 0.0024%\n"
          ],
          "name": "stdout"
        },
        {
          "output_type": "execute_result",
          "data": {
            "text/plain": [
              "<matplotlib.axes._subplots.AxesSubplot at 0x7fa020b9a250>"
            ]
          },
          "metadata": {
            "tags": []
          },
          "execution_count": 54
        },
        {
          "output_type": "display_data",
          "data": {
            "image/png": "[encoded data removed]",
            "text/plain": [
              "<Figure size 432x288 with 1 Axes>"
            ]
          },
          "metadata": {
            "tags": [],
            "needs_background": "light"
          }
        }
      ]
    },
    {
      "cell_type": "code",
      "metadata": {
        "colab": {
          "base_uri": "https://localhost:8080/",
          "height": 282
        },
        "id": "cpRJ4PkTmwZ-",
        "outputId": "28f31417-d60e-45e7-c370-ea6c6bdb5650"
      },
      "source": [
        "df[\"max_fitness\"].plot()"
      ],
      "execution_count": 55,
      "outputs": [
        {
          "output_type": "execute_result",
          "data": {
            "text/plain": [
              "<matplotlib.axes._subplots.AxesSubplot at 0x7fa020b05fd0>"
            ]
          },
          "metadata": {
            "tags": []
          },
          "execution_count": 55
        },
        {
          "output_type": "display_data",
          "data": {
            "image/png": "[encoded data removed]",
            "text/plain": [
              "<Figure size 432x288 with 1 Axes>"
            ]
          },
          "metadata": {
            "tags": [],
            "needs_background": "light"
          }
        }
      ]
    },
    {
      "cell_type": "code",
      "metadata": {
        "colab": {
          "base_uri": "https://localhost:8080/",
          "height": 559
        },
        "id": "i5YRJ6xImh4z",
        "outputId": "ed77b961-59b6-4453-9d19-c104690b711f"
      },
      "source": [
        "p = 500\n",
        "p_mut = 0.05\n",
        "p_cross = 0.3\n",
        "\n",
        "fitness_func_args = {\"knapsack_size\": 156}\n",
        "\n",
        "initial_pop = generate_random_bits(l, p)\n",
        "\n",
        "pop, df = evolve(initial_pop, knapsack_fitness, p_cross, p_mut, fitness_func_args)\n",
        "\n",
        "df[\"avg_fitness\"].plot()"
      ],
      "execution_count": 60,
      "outputs": [
        {
          "output_type": "stream",
          "text": [
            "Evolution 0, Average Fitness: 48.704, Fittest: 1111100000 (332), Change in avg fitness: 100%\n",
            "Evolution 5, Average Fitness: 56.336, Fittest: 1111100000 (332), Change in avg fitness: 3.8044%\n",
            "Evolution 10, Average Fitness: 75.686, Fittest: 1111100000 (332), Change in avg fitness: 5.7481%\n",
            "Evolution 15, Average Fitness: 93.392, Fittest: 1111100000 (332), Change in avg fitness: 0.4774%\n",
            "Evolution 20, Average Fitness: 107.978, Fittest: 1111100000 (332), Change in avg fitness: 0.1443%\n",
            "Evolution 25, Average Fitness: 113.008, Fittest: 1111100000 (332), Change in avg fitness: 0.8476%\n",
            "Evolution 30, Average Fitness: 122.234, Fittest: 1111100000 (332), Change in avg fitness: 0.5095%\n",
            "Evolution 35, Average Fitness: 123.974, Fittest: 1111100000 (332), Change in avg fitness: 0.0919%\n",
            "Evolution 40, Average Fitness: 114.4, Fittest: 1111100000 (332), Change in avg fitness: 5.0717%\n",
            "Evolution 45, Average Fitness: 122.268, Fittest: 1111100000 (332), Change in avg fitness: 0.3245%\n",
            "Evolution 50, Average Fitness: 121.954, Fittest: 1111100000 (332), Change in avg fitness: 0.6776%\n",
            "Evolution 55, Average Fitness: 119.524, Fittest: 1111100000 (332), Change in avg fitness: 1.4674%\n",
            "Evolution 60, Average Fitness: 118.974, Fittest: 1111100000 (332), Change in avg fitness: 2.7323%\n",
            "Evolution 65, Average Fitness: 121.434, Fittest: 1111100000 (332), Change in avg fitness: 1.3504%\n",
            "Evolution 70, Average Fitness: 131.102, Fittest: 1111100000 (332), Change in avg fitness: 1.148%\n",
            "Evolution 75, Average Fitness: 127.0, Fittest: 1111100000 (332), Change in avg fitness: 0.1577%\n"
          ],
          "name": "stdout"
        },
        {
          "output_type": "execute_result",
          "data": {
            "text/plain": [
              "<matplotlib.axes._subplots.AxesSubplot at 0x7fa0209b9710>"
            ]
          },
          "metadata": {
            "tags": []
          },
          "execution_count": 60
        },
        {
          "output_type": "display_data",
          "data": {
            "image/png": "[encoded data removed]",
            "text/plain": [
              "<Figure size 432x288 with 1 Axes>"
            ]
          },
          "metadata": {
            "tags": [],
            "needs_background": "light"
          }
        }
      ]
    },
    {
      "cell_type": "code",
      "metadata": {
        "colab": {
          "base_uri": "https://localhost:8080/",
          "height": 285
        },
        "id": "XcReH3vsm0CC",
        "outputId": "812f33d7-7c1e-4fbc-e3b8-b9c8e9813254"
      },
      "source": [
        "df[\"max_fitness\"].plot()"
      ],
      "execution_count": 61,
      "outputs": [
        {
          "output_type": "execute_result",
          "data": {
            "text/plain": [
              "<matplotlib.axes._subplots.AxesSubplot at 0x7fa020a1bcd0>"
            ]
          },
          "metadata": {
            "tags": []
          },
          "execution_count": 61
        },
        {
          "output_type": "display_data",
          "data": {
            "image/png": "[encoded data removed]",
            "text/plain": [
              "<Figure size 432x288 with 1 Axes>"
            ]
          },
          "metadata": {
            "tags": [],
            "needs_background": "light"
          }
        }
      ]
    },
    {
      "cell_type": "markdown",
      "metadata": {
        "id": "hySTrm5yqY4W"
      },
      "source": [
        "##Part (b) Results\n",
        "\n",
        "The results for running the algorithm for both sizes of knapsack are above. The data for both of these problems is much more noisy that the previous problems from part (a). This is probably due to the fitness function having a large difference between knapsacks that are actually very similar (in the case of the items being just overweight). When running the algorithm with an initial population of around 10000, the results for average fitness are a lot smoother. The max fitness graphs for both solutions don't display much. The first shows the jump up to the highest fitness on the second or third generation and the second found the fittest in the initial population. We chose to use 500 as the population as when a solution of 1000 is chosenit is highly probable that the optimal solution is one of the initial population. The reason being the solutions are 10 bits in length and with 2^10 or 1024 possible solutions using 1000 almost gauarantees finding the optimal solution on the first generation."
      ]
    }
  ]
}